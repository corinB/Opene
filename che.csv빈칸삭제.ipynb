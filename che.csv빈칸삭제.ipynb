{
 "cells": [
  {
   "cell_type": "code",
   "execution_count": 4,
   "metadata": {},
   "outputs": [
    {
     "name": "stdout",
     "output_type": "stream",
     "text": [
      "완료띠오류없죠?\n"
     ]
    }
   ],
   "source": [
    "import pandas as pd\n",
    "import numpy as np\n",
    "\n",
    "\n",
    "csv_file_path = \"/Users/kwoncheeun/Downloads/csv/chic_result.csv\"\n",
    "df = pd.read_csv(csv_file_path)\n",
    "\n",
    "df.rename(columns={'Unnamed: 0': ''}, inplace=True)\n",
    "\n",
    "df.drop(columns=['chic'], inplace=True)\n",
    "\n",
    "df.dropna(subset=df.columns, inplace=True)\n",
    "\n",
    "df.reset_index(drop=True, inplace=True)\n",
    "\n",
    "df.to_csv(\"chic.csv\", index=False)\n",
    "\n",
    "\n",
    "print(\"완료띠오류없죠?\")"
   ]
  },
  {
   "cell_type": "code",
   "execution_count": 6,
   "metadata": {},
   "outputs": [
    {
     "name": "stdout",
     "output_type": "stream",
     "text": [
      "완료띠오류없죠?\n"
     ]
    }
   ],
   "source": [
    "import pandas as pd\n",
    "import numpy as np\n",
    "\n",
    "\n",
    "csv_file_path = \"/Users/kwoncheeun/Downloads/csv/businesscasual_result.csv\"\n",
    "df = pd.read_csv(csv_file_path)\n",
    "\n",
    "df.rename(columns={'Unnamed: 0': ''}, inplace=True)\n",
    "\n",
    "df.drop(columns=['businesscasual'], inplace=True)\n",
    "\n",
    "df.dropna(subset=df.columns, inplace=True)\n",
    "\n",
    "df.reset_index(drop=True, inplace=True)\n",
    "\n",
    "df.to_csv(\"businesscasual.csv\", index=False)\n",
    "\n",
    "\n",
    "print(\"완료띠오류없죠?\")"
   ]
  },
  {
   "cell_type": "code",
   "execution_count": 7,
   "metadata": {},
   "outputs": [
    {
     "name": "stdout",
     "output_type": "stream",
     "text": [
      "완료띠오류없죠?\n"
     ]
    }
   ],
   "source": [
    "import pandas as pd\n",
    "import numpy as np\n",
    "\n",
    "\n",
    "csv_file_path = \"/Users/kwoncheeun/Downloads/csv/amecaji_result.csv\"\n",
    "df = pd.read_csv(csv_file_path)\n",
    "\n",
    "df.rename(columns={'Unnamed: 0': ''}, inplace=True)\n",
    "\n",
    "df.drop(columns=['amecaji'], inplace=True)\n",
    "\n",
    "df.dropna(subset=df.columns, inplace=True)\n",
    "\n",
    "df.reset_index(drop=True, inplace=True)\n",
    "\n",
    "df.to_csv(\"amecaji.csv\", index=False)\n",
    "\n",
    "\n",
    "print(\"완료띠오류없죠?\")"
   ]
  },
  {
   "cell_type": "code",
   "execution_count": 8,
   "metadata": {},
   "outputs": [
    {
     "name": "stdout",
     "output_type": "stream",
     "text": [
      "완료띠오류없죠?\n"
     ]
    }
   ],
   "source": [
    "import pandas as pd\n",
    "import numpy as np\n",
    "\n",
    "\n",
    "csv_file_path = \"/Users/kwoncheeun/Downloads/csv/casual_result.csv\"\n",
    "df = pd.read_csv(csv_file_path)\n",
    "\n",
    "df.rename(columns={'Unnamed: 0': ''}, inplace=True)\n",
    "\n",
    "df.drop(columns=['casual'], inplace=True)\n",
    "\n",
    "df.dropna(subset=df.columns, inplace=True)\n",
    "\n",
    "df.reset_index(drop=True, inplace=True)\n",
    "\n",
    "df.to_csv(\"casual.csv\", index=False)\n",
    "\n",
    "\n",
    "print(\"완료띠오류없죠?\")"
   ]
  },
  {
   "cell_type": "code",
   "execution_count": 9,
   "metadata": {},
   "outputs": [
    {
     "name": "stdout",
     "output_type": "stream",
     "text": [
      "완료띠오류없죠?\n"
     ]
    }
   ],
   "source": [
    "import pandas as pd\n",
    "import numpy as np\n",
    "\n",
    "\n",
    "csv_file_path = \"/Users/kwoncheeun/Downloads/csv/street_result.csv\"\n",
    "df = pd.read_csv(csv_file_path)\n",
    "\n",
    "df.rename(columns={'Unnamed: 0': ''}, inplace=True)\n",
    "\n",
    "df.drop(columns=['street'], inplace=True)\n",
    "\n",
    "df.dropna(subset=df.columns, inplace=True)\n",
    "\n",
    "df.reset_index(drop=True, inplace=True)\n",
    "\n",
    "df.to_csv(\"street.csv\", index=False)\n",
    "\n",
    "\n",
    "print(\"완료띠오류없죠?\")"
   ]
  }
 ],
 "metadata": {
  "kernelspec": {
   "display_name": "Python 3",
   "language": "python",
   "name": "python3"
  },
  "language_info": {
   "codemirror_mode": {
    "name": "ipython",
    "version": 3
   },
   "file_extension": ".py",
   "mimetype": "text/x-python",
   "name": "python",
   "nbconvert_exporter": "python",
   "pygments_lexer": "ipython3",
   "version": "3.12.3"
  }
 },
 "nbformat": 4,
 "nbformat_minor": 2
}
